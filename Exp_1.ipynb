{
 "cells": [
  {
   "cell_type": "code",
   "execution_count": 10,
   "metadata": {},
   "outputs": [
    {
     "name": "stderr",
     "output_type": "stream",
     "text": [
      "[nltk_data] Downloading package punkt_tab to\n",
      "[nltk_data]     C:\\Users\\ppawa\\AppData\\Roaming\\nltk_data...\n",
      "[nltk_data]   Package punkt_tab is already up-to-date!\n",
      "[nltk_data] Downloading package punkt to\n",
      "[nltk_data]     C:\\Users\\ppawa\\AppData\\Roaming\\nltk_data...\n",
      "[nltk_data]   Package punkt is already up-to-date!\n",
      "[nltk_data] Downloading package stopwords to\n",
      "[nltk_data]     C:\\Users\\ppawa\\AppData\\Roaming\\nltk_data...\n",
      "[nltk_data]   Package stopwords is already up-to-date!\n",
      "[nltk_data] Downloading package wordnet to\n",
      "[nltk_data]     C:\\Users\\ppawa\\AppData\\Roaming\\nltk_data...\n",
      "[nltk_data]   Package wordnet is already up-to-date!\n"
     ]
    },
    {
     "data": {
      "text/plain": [
       "True"
      ]
     },
     "execution_count": 10,
     "metadata": {},
     "output_type": "execute_result"
    }
   ],
   "source": [
    "import nltk\n",
    "from nltk.tokenize import word_tokenize\n",
    "nltk.download('punkt_tab')\n",
    "nltk.download('punkt')\n",
    "nltk.download('stopwords')\n",
    "nltk.download('wordnet')"
   ]
  },
  {
   "cell_type": "code",
   "execution_count": 6,
   "metadata": {},
   "outputs": [
    {
     "name": "stdout",
     "output_type": "stream",
     "text": [
      "['The', 'compliance', 'report', 'for', 'the', 'first', 'quarter', 'of', '2022', 'has', 'been', 'released', '.', 'According', 'to', 'the', 'report', ',', 'the', 'company', 'has', 'made', 'significant', 'progress', 'in', 'meeting', 'the', 'regulatory', 'requirements', '.', 'However', ',', 'there', 'are', 'still', 'some', 'areas', 'that', 'need', 'improvement', ',', 'such', 'as', 'data', 'protection', 'and', 'risk', 'management', '.', 'The', 'company', 'is', 'committed', 'to', 'addressing', 'these', 'issues', 'and', 'ensuring', 'compliance', 'with', 'all', 'relevant', 'laws', 'and', 'regulations', '.']\n"
     ]
    }
   ],
   "source": [
    "text = '''The compliance report for the first quarter of 2022 has been released. \n",
    "According to the report, the company has made significant progress in meeting the regulatory requirements. \n",
    "However, there are still some areas that need improvement, such as data protection and risk management. \n",
    "The company is committed to addressing these issues and ensuring compliance with all relevant laws and regulations.'''\n",
    "tokens = word_tokenize(text)\n",
    "print(tokens)"
   ]
  },
  {
   "cell_type": "code",
   "execution_count": 9,
   "metadata": {},
   "outputs": [
    {
     "name": "stdout",
     "output_type": "stream",
     "text": [
      "['compliance', 'report', 'first', 'quarter', '2022', 'released', '.', 'According', 'report', ',', 'company', 'made', 'significant', 'progress', 'meeting', 'regulatory', 'requirements', '.', 'However', ',', 'still', 'areas', 'need', 'improvement', ',', 'data', 'protection', 'risk', 'management', '.', 'company', 'committed', 'addressing', 'issues', 'ensuring', 'compliance', 'relevant', 'laws', 'regulations', '.']\n"
     ]
    }
   ],
   "source": [
    "from nltk.corpus import stopwords\n",
    "\n",
    "text = '''The compliance report for the first quarter of 2022 has been released. \n",
    "According to the report, the company has made significant progress in meeting the regulatory requirements. \n",
    "However, there are still some areas that need improvement, such as data protection and risk management. \n",
    "The company is committed to addressing these issues and ensuring compliance with all relevant laws and regulations.'''\n",
    "\n",
    "stop_words = set(stopwords.words('english'))\n",
    "tokens = word_tokenize(text)\n",
    "filtered_tokens = [token for token in tokens if token.lower() not in stop_words]\n",
    "print(filtered_tokens)"
   ]
  },
  {
   "cell_type": "code",
   "execution_count": 12,
   "metadata": {},
   "outputs": [
    {
     "name": "stdout",
     "output_type": "stream",
     "text": [
      "['The', 'compliance', 'report', 'for', 'the', 'first', 'quarter', 'of', '2022', 'ha', 'been', 'released', '.', 'According', 'to', 'the', 'report', ',', 'the', 'company', 'ha', 'made', 'significant', 'progress', 'in', 'meeting', 'the', 'regulatory', 'requirement', '.', 'However', ',', 'there', 'are', 'still', 'some', 'area', 'that', 'need', 'improvement', ',', 'such', 'a', 'data', 'protection', 'and', 'risk', 'management', '.', 'The', 'company', 'is', 'committed', 'to', 'addressing', 'these', 'issue', 'and', 'ensuring', 'compliance', 'with', 'all', 'relevant', 'law', 'and', 'regulation', '.']\n"
     ]
    }
   ],
   "source": [
    "from nltk.stem import WordNetLemmatizer\n",
    "\n",
    "text = '''The compliance report for the first quarter of 2022 has been released. \n",
    "According to the report, the company has made significant progress in meeting the regulatory requirements. \n",
    "However, there are still some areas that need improvement, such as data protection and risk management. \n",
    "The company is committed to addressing these issues and ensuring compliance with all relevant laws and regulations.'''\n",
    "\n",
    "lemmatizer = WordNetLemmatizer()\n",
    "\n",
    "tokens = nltk.word_tokenize(text)\n",
    "\n",
    "lemmatized_tokens = [lemmatizer.lemmatize(token) for token in tokens]\n",
    "\n",
    "print(lemmatized_tokens)"
   ]
  },
  {
   "cell_type": "code",
   "execution_count": 11,
   "metadata": {},
   "outputs": [
    {
     "name": "stdout",
     "output_type": "stream",
     "text": [
      "['the', 'complianc', 'report', 'for', 'the', 'first', 'quarter', 'of', '2022', 'ha', 'been', 'releas', '.', 'accord', 'to', 'the', 'report', ',', 'the', 'compani', 'ha', 'made', 'signific', 'progress', 'in', 'meet', 'the', 'regulatori', 'requir', '.', 'howev', ',', 'there', 'are', 'still', 'some', 'area', 'that', 'need', 'improv', ',', 'such', 'as', 'data', 'protect', 'and', 'risk', 'manag', '.', 'the', 'compani', 'is', 'commit', 'to', 'address', 'these', 'issu', 'and', 'ensur', 'complianc', 'with', 'all', 'relev', 'law', 'and', 'regul', '.']\n"
     ]
    }
   ],
   "source": [
    "from nltk.stem import PorterStemmer\n",
    "\n",
    "text = '''The compliance report for the first quarter of 2022 has been released. \n",
    "According to the report, the company has made significant progress in meeting the regulatory requirements. \n",
    "However, there are still some areas that need improvement, such as data protection and risk management. \n",
    "The company is committed to addressing these issues and ensuring compliance with all relevant laws and regulations.'''\n",
    "\n",
    "stemmer = PorterStemmer()\n",
    "tokens = nltk.word_tokenize(text)\n",
    "stemmed_tokens = [stemmer.stem(token) for token in tokens]\n",
    "print(stemmed_tokens)"
   ]
  },
  {
   "cell_type": "code",
   "execution_count": 3,
   "metadata": {},
   "outputs": [
    {
     "name": "stdout",
     "output_type": "stream",
     "text": [
      "['The', 'compliance', 'report', 'for', 'the', 'first', 'quarter', 'of', '2022', 'has', 'been', 'released', '.', '\\n', 'According', 'to', 'the', 'report', ',', 'the', 'company', 'has', 'made', 'significant', 'progress', 'in', 'meeting', 'the', 'regulatory', 'requirements', '.', '\\n', 'However', ',', 'there', 'are', 'still', 'some', 'areas', 'that', 'need', 'improvement', ',', 'such', 'as', 'data', 'protection', 'and', 'risk', 'management', '.', '\\n', 'The', 'company', 'is', 'committed', 'to', 'addressing', 'these', 'issues', 'and', 'ensuring', 'compliance', 'with', 'all', 'relevant', 'laws', 'and', 'regulations', '.']\n"
     ]
    }
   ],
   "source": [
    "import spacy\n",
    "\n",
    "nlp = spacy.load(\"en_core_web_sm\")\n",
    "\n",
    "text = '''The compliance report for the first quarter of 2022 has been released. \n",
    "According to the report, the company has made significant progress in meeting the regulatory requirements. \n",
    "However, there are still some areas that need improvement, such as data protection and risk management. \n",
    "The company is committed to addressing these issues and ensuring compliance with all relevant laws and regulations.'''\n",
    "\n",
    "doc = nlp(text)\n",
    "print([token.text for token in doc])"
   ]
  },
  {
   "cell_type": "code",
   "execution_count": 7,
   "metadata": {},
   "outputs": [
    {
     "name": "stdout",
     "output_type": "stream",
     "text": [
      "['compliance', 'report', 'quarter', '2022', 'released', '.', '\\n', 'According', 'report', ',', 'company', 'significant', 'progress', 'meeting', 'regulatory', 'requirements', '.', '\\n', ',', 'areas', 'need', 'improvement', ',', 'data', 'protection', 'risk', 'management', '.', '\\n', 'company', 'committed', 'addressing', 'issues', 'ensuring', 'compliance', 'relevant', 'laws', 'regulations', '.']\n"
     ]
    }
   ],
   "source": [
    "text = '''The compliance report for the first quarter of 2022 has been released. \n",
    "According to the report, the company has made significant progress in meeting the regulatory requirements. \n",
    "However, there are still some areas that need improvement, such as data protection and risk management. \n",
    "The company is committed to addressing these issues and ensuring compliance with all relevant laws and regulations.'''\n",
    "\n",
    "doc = nlp(text)\n",
    "filtered_tokens = [token.text for token in doc if not token.is_stop]\n",
    "print(filtered_tokens)"
   ]
  },
  {
   "cell_type": "code",
   "execution_count": 8,
   "metadata": {},
   "outputs": [
    {
     "name": "stdout",
     "output_type": "stream",
     "text": [
      "['the', 'compliance', 'report', 'for', 'the', 'first', 'quarter', 'of', '2022', 'have', 'be', 'release', '.', '\\n', 'accord', 'to', 'the', 'report', ',', 'the', 'company', 'have', 'make', 'significant', 'progress', 'in', 'meet', 'the', 'regulatory', 'requirement', '.', '\\n', 'however', ',', 'there', 'be', 'still', 'some', 'area', 'that', 'need', 'improvement', ',', 'such', 'as', 'datum', 'protection', 'and', 'risk', 'management', '.', '\\n', 'the', 'company', 'be', 'commit', 'to', 'address', 'these', 'issue', 'and', 'ensure', 'compliance', 'with', 'all', 'relevant', 'law', 'and', 'regulation', '.']\n"
     ]
    }
   ],
   "source": [
    "text = '''The compliance report for the first quarter of 2022 has been released. \n",
    "According to the report, the company has made significant progress in meeting the regulatory requirements. \n",
    "However, there are still some areas that need improvement, such as data protection and risk management. \n",
    "The company is committed to addressing these issues and ensuring compliance with all relevant laws and regulations.'''\n",
    "\n",
    "doc = nlp(text)\n",
    "lemmatized_tokens = [token.lemma_ for token in doc]\n",
    "print(lemmatized_tokens)"
   ]
  }
 ],
 "metadata": {
  "kernelspec": {
   "display_name": "Python 3",
   "language": "python",
   "name": "python3"
  },
  "language_info": {
   "codemirror_mode": {
    "name": "ipython",
    "version": 3
   },
   "file_extension": ".py",
   "mimetype": "text/x-python",
   "name": "python",
   "nbconvert_exporter": "python",
   "pygments_lexer": "ipython3",
   "version": "3.12.4"
  }
 },
 "nbformat": 4,
 "nbformat_minor": 2
}
