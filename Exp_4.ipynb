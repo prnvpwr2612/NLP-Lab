{
 "cells": [
  {
   "cell_type": "code",
   "execution_count": 1,
   "metadata": {},
   "outputs": [
    {
     "name": "stderr",
     "output_type": "stream",
     "text": [
      "[nltk_data] Downloading package averaged_perceptron_tagger to\n",
      "[nltk_data]     C:\\Users\\ppawa\\AppData\\Roaming\\nltk_data...\n",
      "[nltk_data]   Unzipping taggers\\averaged_perceptron_tagger.zip.\n"
     ]
    },
    {
     "data": {
      "text/plain": [
       "True"
      ]
     },
     "execution_count": 1,
     "metadata": {},
     "output_type": "execute_result"
    }
   ],
   "source": [
    "import nltk\n",
    "nltk.download('averaged_perceptron_tagger')"
   ]
  },
  {
   "cell_type": "code",
   "execution_count": 2,
   "metadata": {},
   "outputs": [],
   "source": [
    "sample_text= \"\"\"Cryptocurrency is a digital or virtual currency that uses cryptography for security and is decentralized, meaning it's not controlled by any government or institution. \n",
    "It's based on blockchain technology, which is a public ledger that records all transactions made with a particular cryptocurrency. \n",
    "The most well-known cryptocurrencies are Bitcoin, Ethereum, and Litecoin.\"\"\""
   ]
  },
  {
   "cell_type": "code",
   "execution_count": 3,
   "metadata": {},
   "outputs": [],
   "source": [
    "tokenized=nltk.sent_tokenize(sample_text)\n",
    "for i in tokenized:\n",
    "    words=nltk.word_tokenize(i)\n",
    "    tagged_words=nltk.pos_tag(words)\n",
    "    \n",
    "    chunkGram=r\"\"\"Chunk: {<NN|NNS|VBZ|VBD|VBG|VBN|VBP|VB>*}\"\"\"\n",
    "    \n",
    "    chunkParser=nltk.RegexpParser(chunkGram)\n",
    "    \n",
    "    chunked=chunkParser.parse(tagged_words)\n",
    "    \n",
    "    chunked.draw()"
   ]
  }
 ],
 "metadata": {
  "kernelspec": {
   "display_name": "Python 3",
   "language": "python",
   "name": "python3"
  },
  "language_info": {
   "codemirror_mode": {
    "name": "ipython",
    "version": 3
   },
   "file_extension": ".py",
   "mimetype": "text/x-python",
   "name": "python",
   "nbconvert_exporter": "python",
   "pygments_lexer": "ipython3",
   "version": "3.12.4"
  }
 },
 "nbformat": 4,
 "nbformat_minor": 2
}
