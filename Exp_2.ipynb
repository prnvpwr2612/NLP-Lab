{
 "cells": [
  {
   "cell_type": "code",
   "execution_count": 2,
   "metadata": {},
   "outputs": [],
   "source": [
    "import spacy\n",
    "import pandas as pd\n",
    "\n",
    "nlp = spacy.load(\"en_core_web_sm\")"
   ]
  },
  {
   "cell_type": "code",
   "execution_count": 3,
   "metadata": {},
   "outputs": [],
   "source": [
    "content = '''The Lexus ES is a series of compact executive cars sold by Lexus since 1989. \n",
    "The ES was originally based on the Toyota Camry, but it has since become more distinct. \n",
    "The current seventh generation ES was introduced in 2018 and features a new design language and improved performance. \n",
    "The ES is available in various trim levels, including the base ES 350, the sport-tuned ES 350 F Sport, and the luxury-oriented ES 300h.'''"
   ]
  },
  {
   "cell_type": "code",
   "execution_count": 5,
   "metadata": {},
   "outputs": [
    {
     "name": "stdout",
     "output_type": "stream",
     "text": [
      "The Lexus ES 0 12 ORG\n",
      "Lexus 59 64 ORG\n",
      "1989 71 75 DATE\n",
      "Toyota 113 119 ORG\n",
      "Camry 120 125 PRODUCT\n",
      "seventh 179 186 ORDINAL\n",
      "2018 219 223 DATE\n"
     ]
    }
   ],
   "source": [
    "doc = nlp(content)\n",
    "\n",
    "for ent in doc.ents:\n",
    "    print(ent.text, ent.start_char, ent.end_char, ent.label_)"
   ]
  },
  {
   "cell_type": "code",
   "execution_count": 6,
   "metadata": {},
   "outputs": [
    {
     "name": "stdout",
     "output_type": "stream",
     "text": [
      "           text     type         lemma\n",
      "0  The Lexus ES      ORG  the Lexus ES\n",
      "1         Lexus      ORG         Lexus\n",
      "2          1989     DATE          1989\n",
      "3        Toyota      ORG        Toyota\n",
      "4         Camry  PRODUCT         Camry\n",
      "5       seventh  ORDINAL       seventh\n",
      "6          2018     DATE          2018\n"
     ]
    }
   ],
   "source": [
    "entities = [(ent.text, ent.label_, ent.lemma_) for ent in doc.ents]\n",
    "df = pd.DataFrame(entities, columns=['text', 'type', 'lemma'])\n",
    "print(df)"
   ]
  }
 ],
 "metadata": {
  "kernelspec": {
   "display_name": "Python 3",
   "language": "python",
   "name": "python3"
  },
  "language_info": {
   "codemirror_mode": {
    "name": "ipython",
    "version": 3
   },
   "file_extension": ".py",
   "mimetype": "text/x-python",
   "name": "python",
   "nbconvert_exporter": "python",
   "pygments_lexer": "ipython3",
   "version": "3.12.4"
  }
 },
 "nbformat": 4,
 "nbformat_minor": 2
}
